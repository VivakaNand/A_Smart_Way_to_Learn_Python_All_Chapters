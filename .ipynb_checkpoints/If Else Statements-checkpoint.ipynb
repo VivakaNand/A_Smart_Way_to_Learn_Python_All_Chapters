{
 "cells": [
  {
   "cell_type": "markdown",
   "metadata": {},
   "source": [
    "# if Statements"
   ]
  },
  {
   "cell_type": "code",
   "execution_count": 4,
   "metadata": {},
   "outputs": [
    {
     "name": "stdout",
     "output_type": "stream",
     "text": [
      "a is less than b\n",
      "a < b\n",
      "a less than b\n"
     ]
    }
   ],
   "source": [
    "a = 120\n",
    "b = 200\n",
    "\n",
    "if a < b:\n",
    "    print(\"a is less than b\")\n",
    "    print(\"a < b\")\n",
    "    print(\"a less than b\")\n",
    "if b < a: # return false\n",
    "    print(\"b is less than a\") # This block will not executed\n",
    "    "
   ]
  },
  {
   "cell_type": "code",
   "execution_count": 5,
   "metadata": {},
   "outputs": [],
   "source": [
    "a = 120\n",
    "b = 200\n",
    "\n",
    "#if a < b:\n",
    "#    print(\"a is less than b\")\n",
    "#    print(\"a < b\")\n",
    "#    print(\"a less than b\")\n",
    "if b < a: # return false\n",
    "    print(\"b is less than a\") # This block will not executed"
   ]
  },
  {
   "cell_type": "code",
   "execution_count": null,
   "metadata": {},
   "outputs": [],
   "source": []
  }
 ],
 "metadata": {
  "kernelspec": {
   "display_name": "Python 3",
   "language": "python",
   "name": "python3"
  },
  "language_info": {
   "codemirror_mode": {
    "name": "ipython",
    "version": 3
   },
   "file_extension": ".py",
   "mimetype": "text/x-python",
   "name": "python",
   "nbconvert_exporter": "python",
   "pygments_lexer": "ipython3",
   "version": "3.6.4"
  }
 },
 "nbformat": 4,
 "nbformat_minor": 2
}
