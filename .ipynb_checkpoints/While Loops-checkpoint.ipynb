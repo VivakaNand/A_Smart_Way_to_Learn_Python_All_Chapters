{
 "cells": [
  {
   "cell_type": "markdown",
   "metadata": {},
   "source": [
    "# While Loops"
   ]
  },
  {
   "cell_type": "code",
   "execution_count": 1,
   "metadata": {},
   "outputs": [
    {
     "name": "stdout",
     "output_type": "stream",
     "text": [
      "This is while loop printing\n",
      "This is while loop printing\n",
      "This is while loop printing\n",
      "This is while loop printing\n",
      "This is while loop printing\n",
      "This is while loop printing\n",
      "This is while loop printing\n",
      "This is while loop printing\n",
      "This is while loop printing\n",
      "This is while loop printing\n"
     ]
    }
   ],
   "source": [
    "a= 0\n",
    "while a<10:\n",
    "    print(\"This is while loop printing\")\n",
    "    a += 1"
   ]
  },
  {
   "cell_type": "code",
   "execution_count": 3,
   "metadata": {},
   "outputs": [
    {
     "name": "stdout",
     "output_type": "stream",
     "text": [
      "0 This is while loop printing\n",
      "1 This is while loop printing\n",
      "2 This is while loop printing\n",
      "3 This is while loop printing\n",
      "4 This is while loop printing\n",
      "5 This is while loop printing\n",
      "6 This is while loop printing\n",
      "7 This is while loop printing\n",
      "8 This is while loop printing\n",
      "9 This is while loop printing\n",
      "10 This is while loop printing\n"
     ]
    }
   ],
   "source": [
    "for num in range(0,11):\n",
    "    print(num,\"This is while loop printing\")"
   ]
  },
  {
   "cell_type": "code",
   "execution_count": 4,
   "metadata": {},
   "outputs": [
    {
     "name": "stdout",
     "output_type": "stream",
     "text": [
      "Enter your favourite colorblue\n",
      "Enter your favourite colorpinck\n",
      "Enter your favourite colorred\n",
      "Enter your favourite colororange\n",
      "Enter your favourite coloryellow\n",
      "Enter your favourite colorred\n",
      "Enter your favourite colorred\n",
      "Enter your favourite colorred\n",
      "Enter your favourite colorred\n",
      "Enter your favourite colorred\n"
     ]
    }
   ],
   "source": [
    "a=0\n",
    "while a<10:\n",
    "    user_input= input(\"Enter your favourite color\")\n",
    "    a += 1"
   ]
  },
  {
   "cell_type": "markdown",
   "metadata": {},
   "source": [
    "# Setting a flag"
   ]
  },
  {
   "cell_type": "code",
   "execution_count": 6,
   "metadata": {},
   "outputs": [
    {
     "name": "stdout",
     "output_type": "stream",
     "text": [
      "Enter your favourite colorBlue\n",
      "Enter your favourite colorRed\n",
      "Enter your favourite colorGreen\n",
      "Enter your favourite colorPink\n",
      "Enter your favourite colorOrange\n",
      "Enter your favourite colorQ\n"
     ]
    },
    {
     "data": {
      "text/plain": [
       "['Blue', 'Red', 'Green', 'Pink', 'Orange']"
      ]
     },
     "execution_count": 6,
     "metadata": {},
     "output_type": "execute_result"
    }
   ],
   "source": [
    "flag = True\n",
    "FavColor = []\n",
    "while flag:\n",
    "    user_input= input(\"Enter your favourite color\")\n",
    "    if user_input == \"Q\":\n",
    "        flag = False\n",
    "    else:\n",
    "        FavColor.append(user_input)\n",
    "FavColor"
   ]
  },
  {
   "cell_type": "code",
   "execution_count": null,
   "metadata": {},
   "outputs": [],
   "source": []
  }
 ],
 "metadata": {
  "kernelspec": {
   "display_name": "Python 3",
   "language": "python",
   "name": "python3"
  },
  "language_info": {
   "codemirror_mode": {
    "name": "ipython",
    "version": 3
   },
   "file_extension": ".py",
   "mimetype": "text/x-python",
   "name": "python",
   "nbconvert_exporter": "python",
   "pygments_lexer": "ipython3",
   "version": "3.6.4"
  }
 },
 "nbformat": 4,
 "nbformat_minor": 2
}
